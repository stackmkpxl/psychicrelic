{
 "cells": [
  {
   "cell_type": "code",
   "execution_count": 12,
   "metadata": {},
   "outputs": [
    {
     "name": "stdout",
     "output_type": "stream",
     "text": [
      "prev x: 0, i value: 1, new value of x: 1\n",
      "x: 0\n",
      "prev x: 0, i value: 3, new value of x: 3\n",
      "x: 0\n",
      "prev x: 0, i value: 5, new value of x: 5\n",
      "x: 0\n",
      "prev x: 0, i value: 7, new value of x: 7\n",
      "x: 0\n",
      "prev x: 0, i value: 9, new value of x: 9\n",
      "x: 0\n"
     ]
    }
   ],
   "source": [
    "x = 0\n",
    "\n",
    "for i in range(1, 10, 2):\n",
    "    print(f\"prev x: {x}, i value: {i}, new value of x: {x + i}\")\n",
    "    x += i\n",
    "    x -= i\n",
    "    print(f\"x: {x}\")\n",
    "    # x *= i\n",
    "\n",
    "    # x = x + i\n",
    "    # print(f\"hello {i} - new value changed: {x}\")"
   ]
  },
  {
   "cell_type": "code",
   "execution_count": 15,
   "metadata": {},
   "outputs": [
    {
     "name": "stdout",
     "output_type": "stream",
     "text": [
      "40\n"
     ]
    }
   ],
   "source": [
    "def func(x):\n",
    "    return x * 2\n",
    "\n",
    "print(func(20))"
   ]
  },
  {
   "cell_type": "code",
   "execution_count": null,
   "metadata": {},
   "outputs": [],
   "source": []
  },
  {
   "cell_type": "code",
   "execution_count": null,
   "metadata": {},
   "outputs": [],
   "source": []
  },
  {
   "cell_type": "code",
   "execution_count": null,
   "metadata": {},
   "outputs": [],
   "source": []
  },
  {
   "cell_type": "code",
   "execution_count": null,
   "metadata": {},
   "outputs": [],
   "source": []
  },
  {
   "cell_type": "code",
   "execution_count": null,
   "metadata": {},
   "outputs": [],
   "source": []
  },
  {
   "cell_type": "code",
   "execution_count": null,
   "metadata": {},
   "outputs": [],
   "source": []
  },
  {
   "cell_type": "code",
   "execution_count": null,
   "metadata": {},
   "outputs": [],
   "source": []
  }
 ],
 "metadata": {
  "kernelspec": {
   "display_name": "base",
   "language": "python",
   "name": "python3"
  },
  "language_info": {
   "codemirror_mode": {
    "name": "ipython",
    "version": 3
   },
   "file_extension": ".py",
   "mimetype": "text/x-python",
   "name": "python",
   "nbconvert_exporter": "python",
   "pygments_lexer": "ipython3",
   "version": "3.12.4"
  }
 },
 "nbformat": 4,
 "nbformat_minor": 2
}
